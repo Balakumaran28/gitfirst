{
  "cells": [
    {
      "cell_type": "markdown",
      "id": "f29e5d65-955f-482a-9c6d-737d0f7537f7",
      "metadata": {
        "id": "f29e5d65-955f-482a-9c6d-737d0f7537f7"
      },
      "source": [
        "#### Write a Python program to create a list of numbers from 1-50 that are either divisible by 3 or divisible by 6"
      ]
    },
    {
      "cell_type": "code",
      "execution_count": null,
      "id": "42986d68-e826-434d-8870-2c58405bf202",
      "metadata": {
        "colab": {
          "base_uri": "https://localhost:8080/"
        },
        "id": "42986d68-e826-434d-8870-2c58405bf202",
        "outputId": "a5661285-8df0-4f6d-a6f3-083bf48920be"
      },
      "outputs": [
        {
          "output_type": "stream",
          "name": "stdout",
          "text": [
            "[3, 6, 9, 12, 15, 18, 21, 24, 27, 30, 33, 36, 39, 42, 45, 48]\n"
          ]
        }
      ],
      "source": [
        "n=[ i for i in range(1,51) if (i%3==0)or(i%6==0)]\n",
        "print(n)"
      ]
    },
    {
      "cell_type": "markdown",
      "id": "a33a3263",
      "metadata": {
        "id": "a33a3263"
      },
      "source": [
        "#### Write a Python program that reads “n” number of integers from the user and generates a separate list containing even and odd numbers. (Use List Comprehension)"
      ]
    },
    {
      "cell_type": "code",
      "execution_count": 3,
      "id": "b6bcaec3",
      "metadata": {
        "id": "b6bcaec3",
        "outputId": "091ab3fa-e744-4dd3-d822-e9229cca38d4",
        "colab": {
          "base_uri": "https://localhost:8080/"
        }
      },
      "outputs": [
        {
          "output_type": "stream",
          "name": "stdout",
          "text": [
            "enter number of elements in the list: 5\n",
            "8\n",
            "4\n",
            "5\n",
            "9\n",
            "10\n",
            "the given list is [8, 4, 5, 9, 10]\n",
            "odd numbers [8, 4, 10]\n",
            "even numbers [5, 9]\n"
          ]
        }
      ],
      "source": [
        "n=int(input(\"enter number of elements in the list: \"))\n",
        "li=[int(input()) for i in range(1,n+1)]\n",
        "print(\"the given list is\",li)\n",
        "o=[j for j in li if(j%2==0)]\n",
        "e=[k for k in li if(k%2!=0)]\n",
        "print(\"odd numbers\",o)\n",
        "print(\"even numbers\",e)\n",
        "\n"
      ]
    },
    {
      "cell_type": "markdown",
      "id": "7d43a502",
      "metadata": {
        "id": "7d43a502"
      },
      "source": [
        "#### The python program should read the list of 5 numbers, and generate the new list which contains the factorial of each number in the given list.\n",
        "\n",
        "Sample Input\n",
        "\n",
        "[2, 4, 8, 7, 5]\n",
        "\n",
        "Sample Output\n",
        "\n",
        "[2, 24, 40320, 5040, 120]\n"
      ]
    },
    {
      "cell_type": "code",
      "execution_count": 5,
      "id": "6e82db08",
      "metadata": {
        "id": "6e82db08",
        "outputId": "da710072-db42-4ac8-a1bd-314b8413bb7a",
        "colab": {
          "base_uri": "https://localhost:8080/"
        }
      },
      "outputs": [
        {
          "output_type": "stream",
          "name": "stdout",
          "text": [
            "enter 5 integrs: \n",
            "5\n",
            "2\n",
            "3\n",
            "4\n",
            "5\n",
            "the given list is  [5, 2, 3, 4, 5]\n",
            "factorial of the list is  [120, 2, 6, 24, 120]\n"
          ]
        }
      ],
      "source": [
        "import math\n",
        "print(\"enter 5 integrs: \")\n",
        "li=[int(input()) for i in range(1,n+1)]\n",
        "f=[math.factorial(i) for i in li]\n",
        "print(\"the given list is \",li)\n",
        "print(\"factorial of the list is \",f)\n"
      ]
    },
    {
      "cell_type": "markdown",
      "id": "75a00f56",
      "metadata": {
        "id": "75a00f56"
      },
      "source": [
        "#### Write a python program that reads integers from the user and stores them in a list. Your program should continue reading values until the user enters 0. Then it should display all of the values entered by the user (except for the 0) in ascending order (The list itself to be sorted)."
      ]
    },
    {
      "cell_type": "code",
      "execution_count": 21,
      "id": "720ebc62",
      "metadata": {
        "id": "720ebc62",
        "outputId": "7a825d73-d56d-42ed-9c25-784bd476ccde",
        "colab": {
          "base_uri": "https://localhost:8080/"
        }
      },
      "outputs": [
        {
          "output_type": "stream",
          "name": "stdout",
          "text": [
            "enter the values of the list\n",
            "56\n",
            "7\n",
            "8\n",
            "21\n",
            "55\n",
            "96\n",
            "2\n",
            "4\n",
            "8\n",
            "0\n",
            "the sorted list is  [2, 4, 7, 8, 8, 21, 55, 56, 96]\n"
          ]
        }
      ],
      "source": [
        "print(\"enter the values of the list\")\n",
        "li=[]\n",
        "while 1:\n",
        "  a=int(input())\n",
        "  if(a):\n",
        "    li.append(a)\n",
        "  else:\n",
        "    break\n",
        "print(\"the sorted list is \",sorted(li))"
      ]
    },
    {
      "cell_type": "markdown",
      "id": "2234d270",
      "metadata": {
        "id": "2234d270"
      },
      "source": [
        "#### Write a python program that reads the string, encode each character in a string using ascii values and store the ascii value in the list. The program reads the strings from the user, and stores the individual characters ascii value to the list\n",
        "\n",
        "Sample Input\n",
        "\n",
        "Enter the string : Science\n",
        "\n",
        "Sample Output\n",
        "\n",
        "Encode the List - [83, 99, 105, 101, 110, 99, 101]\n",
        "\n",
        "Note: Use ord() function\n"
      ]
    },
    {
      "cell_type": "code",
      "execution_count": 24,
      "id": "6d329995",
      "metadata": {
        "id": "6d329995",
        "outputId": "a63e92cd-1cbc-4ed0-ba21-ea7249ece023",
        "colab": {
          "base_uri": "https://localhost:8080/"
        }
      },
      "outputs": [
        {
          "output_type": "stream",
          "name": "stdout",
          "text": [
            "enter a string: Life is very short\n",
            "ascii value of the given string is  [76, 105, 102, 101, 32, 105, 115, 32, 118, 101, 114, 121, 32, 115, 104, 111, 114, 116]\n"
          ]
        }
      ],
      "source": [
        "str=input(\"enter a string: \")\n",
        "li=[]\n",
        "for i in str:\n",
        "  a=ord(i)\n",
        "  li.append(a)\n",
        "print(\"ascii value of the given string is \",li)\n"
      ]
    },
    {
      "cell_type": "markdown",
      "id": "81d65617",
      "metadata": {
        "id": "81d65617"
      },
      "source": [
        "#### Write a python program which reads “n” words from the user, store it in the list and display the length of each word and display the longest word in the list."
      ]
    },
    {
      "cell_type": "code",
      "execution_count": 30,
      "id": "6370d7a6",
      "metadata": {
        "id": "6370d7a6",
        "outputId": "8a1f3468-bef4-4af8-b322-ec275772b7d5",
        "colab": {
          "base_uri": "https://localhost:8080/"
        }
      },
      "outputs": [
        {
          "output_type": "stream",
          "name": "stdout",
          "text": [
            "Enter the number of words: 5\n",
            "Enter the word: Tiger\n",
            "Enter the word: Lion\n",
            "Enter the word: Elephant\n",
            "Enter the word: Cuckoo\n",
            "Enter the word: Deer\n",
            "Length of each word in the list is: [5, 4, 8, 6, 4]\n",
            "The longest words in the list is :  Elephant\n"
          ]
        }
      ],
      "source": [
        "n=int(input(\"Enter the number of words: \"))\n",
        "li=[input(\"Enter the word: \") for i in range(1,n+1)]\n",
        "le=[len(j) for j in li]\n",
        "print(\"Length of each word in the list is:\",le)\n",
        "print(\"The longest words in the list is : \",max(li,key=len))"
      ]
    },
    {
      "cell_type": "markdown",
      "id": "43116534",
      "metadata": {
        "id": "43116534"
      },
      "source": [
        "#### A program should read “n” positive integers from the user and append it to the list, and if the list contains prime numbers return “True” and number of prime numbers, else “False”. (Use function to find the number is prime or not)"
      ]
    },
    {
      "cell_type": "code",
      "execution_count": 25,
      "id": "c23107fb",
      "metadata": {
        "id": "c23107fb",
        "outputId": "99723835-c195-4a2a-9c38-7266ae507f24",
        "colab": {
          "base_uri": "https://localhost:8080/"
        }
      },
      "outputs": [
        {
          "output_type": "stream",
          "name": "stdout",
          "text": [
            "Enter number of integers in the list: 5\n",
            "Enter the integers\n",
            "11\n",
            "15\n",
            "13\n",
            "18\n",
            "17\n",
            "True\n",
            "Number of prime numbers in the list is  3\n"
          ]
        }
      ],
      "source": [
        "def is_prime(a):\n",
        "  if a<=1:\n",
        "    return False\n",
        "  for i in range(2,int(a**0.5)+1):\n",
        "    if a%i == 0:\n",
        "      return False\n",
        "  return True\n",
        "n=int(input(\"Enter number of integers in the list: \"))\n",
        "print(\"Enter the integers\")\n",
        "li=[int(input()) for i in range(1,n+1)]\n",
        "b=True\n",
        "c=0\n",
        "for j in li:\n",
        "  if is_prime(j):\n",
        "    b=True\n",
        "    c+=1\n",
        "  else:\n",
        "    b=False\n",
        "print(b)\n",
        "print(\"Number of prime numbers in the list is \",c)"
      ]
    },
    {
      "cell_type": "markdown",
      "id": "b05da938",
      "metadata": {
        "id": "b05da938"
      },
      "source": [
        "#### Write a python program that removes duplicates from the given list and generate the new list without duplicates."
      ]
    },
    {
      "cell_type": "code",
      "execution_count": 35,
      "id": "bf9a0d21",
      "metadata": {
        "id": "bf9a0d21",
        "outputId": "87f743c0-fbc5-433e-a422-9e8999ab22de",
        "colab": {
          "base_uri": "https://localhost:8080/"
        }
      },
      "outputs": [
        {
          "output_type": "stream",
          "name": "stdout",
          "text": [
            "Enter the number of elements in list:5\n",
            "Enter the numbers in the list:\n",
            "1\n",
            "1\n",
            "1\n",
            "2\n",
            "3\n",
            "the list after removing duplicates: [1, 2, 3]\n"
          ]
        }
      ],
      "source": [
        "n=int(input(\"Enter the number of elements in list:\"))\n",
        "print(\"Enter the numbers in the list:\")\n",
        "li=[int(input()) for i in range(1,n+1)]\n",
        "unique_list = []\n",
        "for item in li:\n",
        "    if item not in unique_list:\n",
        "        unique_list.append(item)\n",
        "print(\"the list after removing duplicates:\",unique_list)\n"
      ]
    },
    {
      "cell_type": "markdown",
      "id": "c1cfbeab",
      "metadata": {
        "id": "c1cfbeab"
      },
      "source": [
        "#### Write a python program to remove even numbers from the given list"
      ]
    },
    {
      "cell_type": "code",
      "execution_count": 39,
      "id": "48028949",
      "metadata": {
        "id": "48028949",
        "outputId": "9a874f3d-ec41-4aa3-de46-5bec0a381a44",
        "colab": {
          "base_uri": "https://localhost:8080/"
        }
      },
      "outputs": [
        {
          "output_type": "stream",
          "name": "stdout",
          "text": [
            "Enter the number of elements in list:5\n",
            "Enter the numbers in the list:\n",
            "1\n",
            "2\n",
            "3\n",
            "4\n",
            "5\n",
            "the list after removing even numbers: [1, 3, 5]\n"
          ]
        }
      ],
      "source": [
        "n=int(input(\"Enter the number of elements in list:\"))\n",
        "print(\"Enter the numbers in the list:\")\n",
        "li=[int(input()) for i in range(1,n+1)]\n",
        "o=[j for j in li if(j%2 != 0)]\n",
        "print(\"the list after removing even numbers:\",o)"
      ]
    },
    {
      "cell_type": "markdown",
      "id": "6c818a08",
      "metadata": {
        "id": "6c818a08"
      },
      "source": [
        "#### Consider the following list which contains the month with year  \n",
        "\n",
        "years = [\"January 2023\", “February 2024”, March 2023”, \"May 2025\", \"April 2023\", \"August 2024\", \"September 2025\", \"December 2023\"]\n",
        "\n",
        "If you have noticed, for some months, the year was wrongly mentioned instead of 2023. Write a Python program to change the month to 2023.\n"
      ]
    },
    {
      "cell_type": "code",
      "execution_count": 40,
      "id": "45b5b447",
      "metadata": {
        "id": "45b5b447",
        "outputId": "69b3e0d1-a6f3-4c93-fe41-644d6cb0e967",
        "colab": {
          "base_uri": "https://localhost:8080/"
        }
      },
      "outputs": [
        {
          "output_type": "stream",
          "name": "stdout",
          "text": [
            "['January 2023', 'February 2023', 'March 2023', 'May 2023', 'April 2023', 'August 2023', 'September 2023', 'December 2023']\n"
          ]
        }
      ],
      "source": [
        "years = [\"January 2023\", \"February 2024\", \"March 2023\", \"May 2025\", \"April 2023\", \"August 2024\", \"September 2025\", \"December 2023\"]\n",
        "\n",
        "# Fix all years to 2023\n",
        "fixed_years = [f\"{month.split()[0]} 2023\" for month in years]\n",
        "\n",
        "print(fixed_years)\n"
      ]
    }
  ],
  "metadata": {
    "kernelspec": {
      "display_name": "Python 3 (ipykernel)",
      "language": "python",
      "name": "python3"
    },
    "language_info": {
      "codemirror_mode": {
        "name": "ipython",
        "version": 3
      },
      "file_extension": ".py",
      "mimetype": "text/x-python",
      "name": "python",
      "nbconvert_exporter": "python",
      "pygments_lexer": "ipython3",
      "version": "3.12.5"
    },
    "colab": {
      "provenance": []
    }
  },
  "nbformat": 4,
  "nbformat_minor": 5
}